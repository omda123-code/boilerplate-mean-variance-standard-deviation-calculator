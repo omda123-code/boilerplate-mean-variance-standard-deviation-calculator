{
  "nbformat": 4,
  "nbformat_minor": 0,
  "metadata": {
    "colab": {
      "provenance": [],
      "authorship_tag": "ABX9TyPVe9EXTTjR+bMp7n+Qmzey",
      "include_colab_link": true
    },
    "kernelspec": {
      "name": "python3",
      "display_name": "Python 3"
    },
    "language_info": {
      "name": "python"
    }
  },
  "cells": [
    {
      "cell_type": "markdown",
      "metadata": {
        "id": "view-in-github",
        "colab_type": "text"
      },
      "source": [
        "<a href=\"https://colab.research.google.com/github/omda123-code/boilerplate-mean-variance-standard-deviation-calculator/blob/main/demographic_data_analyzer.ipynb\" target=\"_parent\"><img src=\"https://colab.research.google.com/assets/colab-badge.svg\" alt=\"Open In Colab\"/></a>"
      ]
    },
    {
      "cell_type": "code",
      "execution_count": 7,
      "metadata": {
        "colab": {
          "base_uri": "https://localhost:8080/"
        },
        "id": "Uh1BJ0mjaqiq",
        "outputId": "c856dbdc-71f2-4cb9-cebd-890e38cfb497"
      },
      "outputs": [
        {
          "output_type": "stream",
          "name": "stderr",
          "text": [
            "/tmp/ipython-input-7-209374802.py:69: FutureWarning: DataFrame.applymap has been deprecated. Use DataFrame.map instead.\n",
            "  df = df.applymap(lambda x: x.strip() if isinstance(x, str) else x)\n"
          ]
        },
        {
          "output_type": "stream",
          "name": "stdout",
          "text": [
            "race_count:\n",
            "race\n",
            "White                 27816\n",
            "Black                  3124\n",
            "Asian-Pac-Islander     1039\n",
            "Amer-Indian-Eskimo      311\n",
            "Other                   271\n",
            "Name: count, dtype: int64\n",
            "---------------------\n",
            "average_age_men:\n",
            "39.4\n",
            "---------------------\n",
            "percentage_bachelors:\n",
            "16.4\n",
            "---------------------\n",
            "percentage_higher_education_rich:\n",
            "46.5\n",
            "---------------------\n",
            "percentage_lower_education_rich:\n",
            "17.4\n",
            "---------------------\n",
            "min_work_hours:\n",
            "1\n",
            "---------------------\n",
            "rich_percentage:\n",
            "10.0\n",
            "---------------------\n",
            "highest_earning_country:\n",
            "Iran\n",
            "---------------------\n",
            "highest_earning_country_percentage:\n",
            "41.9\n",
            "---------------------\n",
            "top_IN_occupation:\n",
            "Prof-specialty\n",
            "---------------------\n"
          ]
        }
      ],
      "source": [
        "import pandas as pd\n",
        "\n",
        "def analyze_data(df):\n",
        "    race_count = df['race'].value_counts()\n",
        "    average_age_men = round(df[df['sex'] == 'Male']['age'].mean(), 1)\n",
        "    percentage_bachelors = round((df['education'] == 'Bachelors').mean() * 100, 1)\n",
        "\n",
        "    higher_education = df['education'].isin(['Bachelors', 'Masters', 'Doctorate'])\n",
        "    higher_education_rich = df[higher_education & (df['salary'] == '>50K')]\n",
        "    if len(df[higher_education]) > 0:\n",
        "        percentage_higher_education_rich = round(len(higher_education_rich) / len(df[higher_education]) * 100, 1)\n",
        "    else:\n",
        "        percentage_higher_education_rich = 0\n",
        "\n",
        "    lower_education = ~higher_education\n",
        "    lower_education_rich = df[lower_education & (df['salary'] == '>50K')]\n",
        "    if len(df[lower_education]) > 0:\n",
        "        percentage_lower_education_rich = round(len(lower_education_rich) / len(df[lower_education]) * 100, 1)\n",
        "    else:\n",
        "        percentage_lower_education_rich = 0\n",
        "\n",
        "    min_work_hours = df['hours-per-week'].min()\n",
        "    num_min_workers = df[df['hours-per-week'] == min_work_hours]\n",
        "    rich_min_workers = num_min_workers[num_min_workers['salary'] == '>50K']\n",
        "    if len(num_min_workers) > 0:\n",
        "        rich_percentage = round(len(rich_min_workers) / len(num_min_workers) * 100, 1)\n",
        "    else:\n",
        "        rich_percentage = 0\n",
        "\n",
        "    country_counts = df['native-country'].value_counts()\n",
        "    rich_country_counts = df[df['salary'] == '>50K']['native-country'].value_counts()\n",
        "    rich_percentage_per_country = (rich_country_counts / country_counts * 100).fillna(0)\n",
        "    if not rich_percentage_per_country.empty:\n",
        "        highest_earning_country = rich_percentage_per_country.idxmax()\n",
        "        highest_earning_country_percentage = round(rich_percentage_per_country.max(), 1)\n",
        "    else:\n",
        "        highest_earning_country = None\n",
        "        highest_earning_country_percentage = 0\n",
        "\n",
        "    india_rich = df[(df['native-country'] == 'India') & (df['salary'] == '>50K')]\n",
        "    if not india_rich.empty:\n",
        "        top_IN_occupation = india_rich['occupation'].mode()[0]\n",
        "    else:\n",
        "        top_IN_occupation = None\n",
        "\n",
        "    results = {\n",
        "        'race_count': race_count,\n",
        "        'average_age_men': average_age_men,\n",
        "        'percentage_bachelors': percentage_bachelors,\n",
        "        'percentage_higher_education_rich': percentage_higher_education_rich,\n",
        "        'percentage_lower_education_rich': percentage_lower_education_rich,\n",
        "        'min_work_hours': min_work_hours,\n",
        "        'rich_percentage': rich_percentage,\n",
        "        'highest_earning_country': highest_earning_country,\n",
        "        'highest_earning_country_percentage': highest_earning_country_percentage,\n",
        "        'top_IN_occupation': top_IN_occupation\n",
        "    }\n",
        "    return results\n",
        "\n",
        "if __name__ == '__main__':\n",
        "    url = 'https://archive.ics.uci.edu/ml/machine-learning-databases/adult/adult.data'\n",
        "    df = pd.read_csv(url, header=None, names=[\n",
        "        'age', 'workclass', 'fnlwgt', 'education', 'education-num', 'marital-status',\n",
        "        'occupation', 'relationship', 'race', 'sex', 'capital-gain', 'capital-loss',\n",
        "        'hours-per-week', 'native-country', 'salary'\n",
        "    ])\n",
        "\n",
        "    # تنظيف القيم النصية من الفراغات\n",
        "    df = df.applymap(lambda x: x.strip() if isinstance(x, str) else x)\n",
        "\n",
        "    results = analyze_data(df)\n",
        "    for key, value in results.items():\n",
        "        print(f\"{key}:\")\n",
        "        print(value)\n",
        "        print('---------------------')\n"
      ]
    },
    {
      "cell_type": "code",
      "source": [],
      "metadata": {
        "id": "SQZETN8Ra0kR"
      },
      "execution_count": null,
      "outputs": []
    }
  ]
}